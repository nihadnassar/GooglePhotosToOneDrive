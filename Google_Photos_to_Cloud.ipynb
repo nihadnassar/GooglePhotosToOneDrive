{
  "nbformat": 4,
  "nbformat_minor": 0,
  "metadata": {
    "colab": {
      "provenance": [],
      "include_colab_link": true
    },
    "kernelspec": {
      "name": "python3",
      "display_name": "Python 3"
    },
    "language_info": {
      "name": "python"
    }
  },
  "cells": [
    {
      "cell_type": "markdown",
      "metadata": {
        "id": "view-in-github",
        "colab_type": "text"
      },
      "source": [
        "<a href=\"https://colab.research.google.com/github/nihadnassar/GooglePhotosToOneDrive/blob/main/Google_Photos_to_Cloud.ipynb\" target=\"_parent\"><img src=\"https://colab.research.google.com/assets/colab-badge.svg\" alt=\"Open In Colab\"/></a>"
      ]
    },
    {
      "cell_type": "markdown",
      "source": [
        "\n",
        "# **<font color='red'> ☁︎ </font> → <font color='0364B8'> ☁︎ </font> <font color='18a15f'> Goo<font color='ff9e10'>gle <font color='dc4a3d'>Pho<font color='3569d6'>tos </font></font></font>  </font> file transfer to  <font color='0364B8'>onedrive</font>**"
      ],
      "metadata": {
        "id": "Im0lz1rdyvOe"
      }
    },
    {
      "cell_type": "markdown",
      "source": [
        "<font> Pre-Requesites </font>\n",
        "\n",
        "\n",
        "\n",
        "*   <font color='3F79AD'> Rclone </font> - download rclone in your operating system for Access Token.\n",
        "\n",
        "Download link= https://rclone.org/downloads/\n",
        "*    Access Token of Google Photos & OneDrive from Rclone\n",
        "\n",
        "Instruction to Get access token for\n",
        " OneDrive & Google Photos https://github.com/nihadnassar/GooglePhotosToOneDrive/blob/main/AccessToken.md\n",
        "\n"
      ],
      "metadata": {
        "id": "VArssK4i3xsF"
      }
    },
    {
      "cell_type": "markdown",
      "source": [
        "# **Install RClone** <img src='https://biplobsd.github.io/RLabClone/img/title_rclonelab.svg' height=\"45\" alt=\"RcloneLab\"/>"
      ],
      "metadata": {
        "id": "u7e12UNkiiQM"
      }
    },
    {
      "cell_type": "code",
      "execution_count": null,
      "metadata": {
        "id": "elWYcQ77M7Ie",
        "collapsed": true
      },
      "outputs": [],
      "source": [
        "!wget https://downloads.rclone.org/v1.59.2/rclone-v1.59.2-linux-amd64.deb\n",
        "!apt install ./rclone-v1.59.2-linux-amd64.deb"
      ]
    },
    {
      "cell_type": "markdown",
      "source": [
        "# **Mount Drives** <img src='https://upload.wikimedia.org/wikipedia/commons/1/12/Cloud_computing_icon.svg' height=\"45\" alt=\"RcloneLab\"/>"
      ],
      "metadata": {
        "id": "XzShoEkLiokX"
      }
    },
    {
      "cell_type": "markdown",
      "source": [
        "# Google Photos <img src='https://upload.wikimedia.org/wikipedia/commons/1/12/Google_Photos_icon_%282020%29.svg' height=\"45\" alt=\"Google_Photos\"/>"
      ],
      "metadata": {
        "id": "fNvSLwGwP7eD"
      }
    },
    {
      "cell_type": "markdown",
      "source": [
        "<h4> Instructions for Google Photos Configuration </4>\n",
        "  \n",
        "1.type </font> <font color='red'>\"n\"  </font>        - new remote\n",
        "\n",
        "2.type</font> <font color='red'> google_photos </font> -name\n",
        "\n",
        "3.type </font> <font color='red'>\"19\"  </font>  -storage\n",
        "\n",
        "4.press </font> <font color='red'> enter </font>      -client id\n",
        "\n",
        "5.press </font> <font color='red'>enter </font>      -client secret\n",
        "\n",
        "6.press </font> <font color='red'>enter </font>      -boolean value\n",
        "\n",
        "7.type </font> <font color='red'>\"n\"  </font>     -edit advanced no     \n",
        "    \n",
        "8.type</font> <font color='red'>\"n\"  </font>      -auto config no\n",
        "\n",
        "9.</font> <font color='18a15f'>get rclone Access token for google photos, paste and press enter </font> </font> <font color='red'> TO get the code </font> see details= https://github.com/nihadnassar/PhotosToOneDrive/blob/main/AccessToken.md\n",
        "\n",
        "10.type</font> <font color='red'>\"y\"  </font>     -full resolution\n",
        "\n",
        "11.type</font> <font color='red'>\"y\"  </font>    -Keep this remote\n",
        "\n",
        "12.type  </font> <font color='red'>\"q\"  </font> -quit config"
      ],
      "metadata": {
        "id": "pjW7JjBQpnES"
      }
    },
    {
      "cell_type": "markdown",
      "source": [],
      "metadata": {
        "id": "g3hXOf8PBBXg"
      }
    },
    {
      "cell_type": "markdown",
      "source": [],
      "metadata": {
        "id": "WG3YZ0y3p_s2"
      }
    },
    {
      "cell_type": "code",
      "source": [
        "# @title Conifg google photos\n",
        "!rclone config\n",
        "\n"
      ],
      "metadata": {
        "collapsed": true,
        "id": "85TGW4RKP__k"
      },
      "execution_count": null,
      "outputs": []
    },
    {
      "cell_type": "code",
      "source": [
        "# @title Mount Google Photos\n",
        "!mkdir google_photos\n",
        "!nohup rclone --vfs-cache-mode writes mount google_photos: ./google_photos &"
      ],
      "metadata": {
        "id": "JytVPuZYQfsk",
        "cellView": "form"
      },
      "execution_count": null,
      "outputs": []
    },
    {
      "cell_type": "code",
      "source": [
        "# @title Check Mount\n",
        "!ls ./google_photos"
      ],
      "metadata": {
        "id": "8Qk1-rPaRFA9"
      },
      "execution_count": null,
      "outputs": []
    },
    {
      "cell_type": "markdown",
      "source": [
        "# OneDrive <img src='https://upload.wikimedia.org/wikipedia/commons/thumb/3/3c/Microsoft_Office_OneDrive_%282019%E2%80%93present%29.svg/320px-Microsoft_Office_OneDrive_%282019%E2%80%93present%29.svg.png' height=\"45\" alt=\"OneDrive\"/>"
      ],
      "metadata": {
        "id": "Dj0Ymfui50aM"
      }
    },
    {
      "cell_type": "markdown",
      "source": [
        "<h4> Instructions for Onedrive Configuration </4>\n",
        "  \n",
        "1.type </font> <font color='red'>\"n\"  </font>        - new remote\n",
        "\n",
        "2.type</font> <font color='red'> onedrive </font> -name\n",
        "\n",
        "3.type </font> <font color='red'>\"32\"  </font>  -storage\n",
        "\n",
        "4.press </font> <font color='red'> enter </font>      -client id\n",
        "\n",
        "5.press </font> <font color='red'>enter </font>      -client secret\n",
        "\n",
        "6.type </font> <font color='red'>\"1\"  </font>     -region\n",
        "\n",
        "7.type </font> <font color='red'>\"n\"  </font>     -advanced config  \n",
        "    \n",
        "8.type</font> <font color='red'>\"n\"  </font>      -auto config no\n",
        "\n",
        "9.</font> <font color='18a15f'>get rclone Authenticate One Drive code and paste and press enter </font> </font> <font color='red'>HOW TO GET CODE? </font> see details= https://github.com/nihadnassar/GooglePhotosToOneDrive/blob/main/AccessToken.md\n",
        "\n",
        "10.type</font> <font color='red'>\"1\"  </font> config type\n",
        "\n",
        "11.type'</font> <font color='red'>\"1\"  </font> config_driveid  \n",
        "\n",
        "12.type</font> <font color='red'>\"y\"  </font>\n",
        "\n",
        "13.type</font> <font color='red'>\"y\"  </font>\n",
        "\n",
        "14.type  </font> <font color='red'>\"q\"  </font>  "
      ],
      "metadata": {
        "id": "0ujAReqRrYO0"
      }
    },
    {
      "cell_type": "code",
      "source": [
        "# @title Config OneDrive\n",
        "!rclone config\n"
      ],
      "metadata": {
        "id": "-IrRyxcmR5zU",
        "collapsed": true,
        "cellView": "form"
      },
      "execution_count": null,
      "outputs": []
    },
    {
      "cell_type": "code",
      "source": [
        "# @title Mount OneDrive\n",
        "!mkdir onedrive\n",
        "!nohup rclone --vfs-cache-mode writes mount onedrive: ./onedrive &"
      ],
      "metadata": {
        "cellView": "form",
        "id": "JekErAr26Jg6"
      },
      "execution_count": null,
      "outputs": []
    },
    {
      "cell_type": "code",
      "source": [
        "# @title Check if Mount is successful\n",
        "#@markdown <h4>📝 Displaying folders in result indicates the mount was successful</4>\n",
        "!ls ./onedrive"
      ],
      "metadata": {
        "collapsed": true,
        "id": "Imz5qcGEHU7_",
        "cellView": "form"
      },
      "execution_count": null,
      "outputs": []
    },
    {
      "cell_type": "markdown",
      "source": [
        "# **Copy Files**"
      ],
      "metadata": {
        "id": "3m6HlUvuhoLk"
      }
    },
    {
      "cell_type": "code",
      "source": [
        "#@markdown <h4>📝 Copy path from left tab folder section</4>\n",
        "#@markdown <h4>📝 Replace the path of source & destination directory if required</4>\n",
        "\n",
        "import shutil\n",
        "\n",
        "# Source directory\n",
        "source_dir = '/content/google_photos/media'\n",
        "\n",
        "# Destination directory\n",
        "destination_dir = '/content/onedrive/gphotos'\n",
        "\n",
        "# Copy the directory\n",
        "shutil.copytree(source_dir, destination_dir)"
      ],
      "metadata": {
        "id": "3fE7TOcbV8Wf"
      },
      "execution_count": null,
      "outputs": []
    }
  ]
}