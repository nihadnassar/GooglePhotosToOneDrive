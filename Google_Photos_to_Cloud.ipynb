{
  "nbformat": 4,
  "nbformat_minor": 0,
  "metadata": {
    "colab": {
      "provenance": [],
      "mount_file_id": "1mPXLoUK1ASOu4u0zvpxZvWU54H98HoEM",
      "authorship_tag": "ABX9TyPVIJtmL3lO9NOybTbgfKze",
      "include_colab_link": true
    },
    "kernelspec": {
      "name": "python3",
      "display_name": "Python 3"
    },
    "language_info": {
      "name": "python"
    }
  },
  "cells": [
    {
      "cell_type": "markdown",
      "metadata": {
        "id": "view-in-github",
        "colab_type": "text"
      },
      "source": [
        "<a href=\"https://colab.research.google.com/github/nihadnassar/PhotosToOneDrive/blob/main/Google_Photos_to_Cloud.ipynb\" target=\"_parent\"><img src=\"https://colab.research.google.com/assets/colab-badge.svg\" alt=\"Open In Colab\"/></a>"
      ]
    },
    {
      "cell_type": "markdown",
      "source": [
        "\n",
        "# **<font color='red'> ☁︎ </font> → <font color='0364B8'> ☁︎ </font> <font color='18a15f'> Goo<font color='ff9e10'>gle <font color='dc4a3d'>Pho<font color='3569d6'>tos </font></font></font>  </font> file transfer to  <font color='0364B8'>onedrive</font>**"
      ],
      "metadata": {
        "id": "Im0lz1rdyvOe"
      }
    },
    {
      "cell_type": "markdown",
      "source": [
        "<font> Pre-Requesites </font>\n",
        "\n",
        "\n",
        "\n",
        "*   <font color='3F79AD'> Rclone </font> - download rclone in your operating system for Access Token.\n",
        "\n",
        "Download link= https://rclone.org/downloads/\n",
        "*    Access Token of Google Photos & OneDrive from Rclone\n",
        "\n",
        "Instruction to Get access token for\n",
        " OneDrive & Google Photos https://github.com/jakiya99/Torrent-to-Onedrive/blob/main/rclone%20config/authenticate%20onedrive%20rclone.md\n",
        "\n"
      ],
      "metadata": {
        "id": "VArssK4i3xsF"
      }
    },
    {
      "cell_type": "markdown",
      "source": [
        "# **Install RClone** <img src='https://biplobsd.github.io/RLabClone/img/title_rclonelab.svg' height=\"45\" alt=\"RcloneLab\"/>"
      ],
      "metadata": {
        "id": "u7e12UNkiiQM"
      }
    },
    {
      "cell_type": "code",
      "execution_count": null,
      "metadata": {
        "id": "elWYcQ77M7Ie",
        "collapsed": true
      },
      "outputs": [],
      "source": [
        "!wget https://downloads.rclone.org/v1.59.2/rclone-v1.59.2-linux-amd64.deb\n",
        "!apt install ./rclone-v1.59.2-linux-amd64.deb"
      ]
    },
    {
      "cell_type": "markdown",
      "source": [
        "# **Mount Drives** <img src='https://upload.wikimedia.org/wikipedia/commons/1/12/Cloud_computing_icon.svg' height=\"45\" alt=\"RcloneLab\"/>"
      ],
      "metadata": {
        "id": "XzShoEkLiokX"
      }
    },
    {
      "cell_type": "markdown",
      "source": [
        "# Google Photos <img src='https://upload.wikimedia.org/wikipedia/commons/1/12/Google_Photos_icon_%282020%29.svg' height=\"45\" alt=\"Google_Photos\"/>"
      ],
      "metadata": {
        "id": "fNvSLwGwP7eD"
      }
    },
    {
      "cell_type": "code",
      "source": [
        "# @title Conifg google photos\n",
        "!rclone config"
      ],
      "metadata": {
        "colab": {
          "base_uri": "https://localhost:8080/"
        },
        "collapsed": true,
        "id": "85TGW4RKP__k",
        "outputId": "5425a27c-2e1e-4029-ab17-96f5759edd12",
        "cellView": "form"
      },
      "execution_count": null,
      "outputs": [
        {
          "output_type": "stream",
          "name": "stdout",
          "text": [
            "Current remotes:\n",
            "\n",
            "Name                 Type\n",
            "====                 ====\n",
            "onedrive             onedrive\n",
            "\n",
            "e) Edit existing remote\n",
            "n) New remote\n",
            "d) Delete remote\n",
            "r) Rename remote\n",
            "c) Copy remote\n",
            "s) Set configuration password\n",
            "q) Quit config\n",
            "e/n/d/r/c/s/q> n\n",
            "\n",
            "Enter name for new remote.\n",
            "name> google_photos\n",
            "\n",
            "Option Storage.\n",
            "Type of storage to configure.\n",
            "Choose a number from below, or type in your own value.\n",
            "\u001b[91m 1 / 1Fichier\n",
            "   \\ (fichier)\n",
            "\u001b[0m\u001b[92m 2 / Akamai NetStorage\n",
            "   \\ (netstorage)\n",
            "\u001b[0m\u001b[91m 3 / Alias for an existing remote\n",
            "   \\ (alias)\n",
            "\u001b[0m\u001b[92m 4 / Amazon Drive\n",
            "   \\ (amazon cloud drive)\n",
            "\u001b[0m\u001b[91m 5 / Amazon S3 Compliant Storage Providers including AWS, Alibaba, Ceph, China Mobile, Cloudflare, ArvanCloud, Digital Ocean, Dreamhost, Huawei OBS, IBM COS, IDrive e2, Lyve Cloud, Minio, Netease, RackCorp, Scaleway, SeaweedFS, StackPath, Storj, Tencent COS and Wasabi\n",
            "   \\ (s3)\n",
            "\u001b[0m\u001b[92m 6 / Backblaze B2\n",
            "   \\ (b2)\n",
            "\u001b[0m\u001b[91m 7 / Better checksums for other remotes\n",
            "   \\ (hasher)\n",
            "\u001b[0m\u001b[92m 8 / Box\n",
            "   \\ (box)\n",
            "\u001b[0m\u001b[91m 9 / Cache a remote\n",
            "   \\ (cache)\n",
            "\u001b[0m\u001b[92m10 / Citrix Sharefile\n",
            "   \\ (sharefile)\n",
            "\u001b[0m\u001b[91m11 / Combine several remotes into one\n",
            "   \\ (combine)\n",
            "\u001b[0m\u001b[92m12 / Compress a remote\n",
            "   \\ (compress)\n",
            "\u001b[0m\u001b[91m13 / Dropbox\n",
            "   \\ (dropbox)\n",
            "\u001b[0m\u001b[92m14 / Encrypt/Decrypt a remote\n",
            "   \\ (crypt)\n",
            "\u001b[0m\u001b[91m15 / Enterprise File Fabric\n",
            "   \\ (filefabric)\n",
            "\u001b[0m\u001b[92m16 / FTP\n",
            "   \\ (ftp)\n",
            "\u001b[0m\u001b[91m17 / Google Cloud Storage (this is not Google Drive)\n",
            "   \\ (google cloud storage)\n",
            "\u001b[0m\u001b[92m18 / Google Drive\n",
            "   \\ (drive)\n",
            "\u001b[0m\u001b[91m19 / Google Photos\n",
            "   \\ (google photos)\n",
            "\u001b[0m\u001b[92m20 / HTTP\n",
            "   \\ (http)\n",
            "\u001b[0m\u001b[91m21 / Hadoop distributed file system\n",
            "   \\ (hdfs)\n",
            "\u001b[0m\u001b[92m22 / HiDrive\n",
            "   \\ (hidrive)\n",
            "\u001b[0m\u001b[91m23 / Hubic\n",
            "   \\ (hubic)\n",
            "\u001b[0m\u001b[92m24 / In memory object storage system.\n",
            "   \\ (memory)\n",
            "\u001b[0m\u001b[91m25 / Internet Archive\n",
            "   \\ (internetarchive)\n",
            "\u001b[0m\u001b[92m26 / Jottacloud\n",
            "   \\ (jottacloud)\n",
            "\u001b[0m\u001b[91m27 / Koofr, Digi Storage and other Koofr-compatible storage providers\n",
            "   \\ (koofr)\n",
            "\u001b[0m\u001b[92m28 / Local Disk\n",
            "   \\ (local)\n",
            "\u001b[0m\u001b[91m29 / Mail.ru Cloud\n",
            "   \\ (mailru)\n",
            "\u001b[0m\u001b[92m30 / Mega\n",
            "   \\ (mega)\n",
            "\u001b[0m\u001b[91m31 / Microsoft Azure Blob Storage\n",
            "   \\ (azureblob)\n",
            "\u001b[0m\u001b[92m32 / Microsoft OneDrive\n",
            "   \\ (onedrive)\n",
            "\u001b[0m\u001b[91m33 / OpenDrive\n",
            "   \\ (opendrive)\n",
            "\u001b[0m\u001b[92m34 / OpenStack Swift (Rackspace Cloud Files, Memset Memstore, OVH)\n",
            "   \\ (swift)\n",
            "\u001b[0m\u001b[91m35 / Pcloud\n",
            "   \\ (pcloud)\n",
            "\u001b[0m\u001b[92m36 / Put.io\n",
            "   \\ (putio)\n",
            "\u001b[0m\u001b[91m37 / QingCloud Object Storage\n",
            "   \\ (qingstor)\n",
            "\u001b[0m\u001b[92m38 / SSH/SFTP\n",
            "   \\ (sftp)\n",
            "\u001b[0m\u001b[91m39 / Sia Decentralized Cloud\n",
            "   \\ (sia)\n",
            "\u001b[0m\u001b[92m40 / Storj Decentralized Cloud Storage\n",
            "   \\ (storj)\n",
            "\u001b[0m\u001b[91m41 / Sugarsync\n",
            "   \\ (sugarsync)\n",
            "\u001b[0m\u001b[92m42 / Transparently chunk/split large files\n",
            "   \\ (chunker)\n",
            "\u001b[0m\u001b[91m43 / Union merges the contents of several upstream fs\n",
            "   \\ (union)\n",
            "\u001b[0m\u001b[92m44 / Uptobox\n",
            "   \\ (uptobox)\n",
            "\u001b[0m\u001b[91m45 / WebDAV\n",
            "   \\ (webdav)\n",
            "\u001b[0m\u001b[92m46 / Yandex Disk\n",
            "   \\ (yandex)\n",
            "\u001b[0m\u001b[91m47 / Zoho\n",
            "   \\ (zoho)\n",
            "\u001b[0m\u001b[92m48 / premiumize.me\n",
            "   \\ (premiumizeme)\n",
            "\u001b[0m\u001b[91m49 / seafile\n",
            "   \\ (seafile)\n",
            "\u001b[0mStorage> 19\n",
            "\n",
            "Option client_id.\n",
            "OAuth Client Id.\n",
            "Leave blank normally.\n",
            "Enter a value. Press Enter to leave empty.\n",
            "client_id> \n",
            "\n",
            "Option client_secret.\n",
            "OAuth Client Secret.\n",
            "Leave blank normally.\n",
            "Enter a value. Press Enter to leave empty.\n",
            "client_secret> \n",
            "\n",
            "Option read_only.\n",
            "Set to make the Google Photos backend read only.\n",
            "If you choose read only then rclone will only request read only access\n",
            "to your photos, otherwise rclone will request full access.\n",
            "Enter a boolean value (true or false). Press Enter for the default (false).\n",
            "read_only> \n",
            "\n",
            "Edit advanced config?\n",
            "y) Yes\n",
            "n) No (default)\n",
            "y/n> n\n",
            "\n",
            "Use auto config?\n",
            " * Say Y if not sure\n",
            " * Say N if you are working on a remote or headless machine\n",
            "\n",
            "y) Yes (default)\n",
            "n) No\n",
            "y/n> n\n",
            "\n",
            "Option config_token.\n",
            "For this to work, you will need rclone available on a machine that has\n",
            "a web browser available.\n",
            "For more help and alternate methods see: https://rclone.org/remote_setup/\n",
            "Execute the following on the machine with the web browser (same rclone\n",
            "version recommended):\n",
            "\trclone authorize \"google photos\"\n",
            "Then paste the result.\n",
            "Enter a value.\n",
            "config_token> {\"access_token\":\"ya29.a0AcM612yULkgwGhq1G7J1GcQB-SG0zLa0mn-pqarGMXctNrUFbE7KHu_DPNY6EW6Nr6LouFkpqpRuHa31QzfXh9N2HrlTvV8grKcL_8Z58W8gdjvi3kX2_Kus3fMDYyw-Oc-8d6DIyFbGT0_Fw3101sXGQItLS3-Lf0Mbw_IbaCgYKAU4SARMSFQHGX2MiSH6x3QyAdeDENyOgvdlFBw0175\",\"token_type\":\"Bearer\",\"refresh_token\":\"1//03oSlhSvBRdgDCgYIARAAGAMSNgF-L9IrK8hjAeGLiZCesN-J9R543yojdEVLkuJeIQkOCh8higizbPP8nmAbb5j0yAeqQ9m_bQ\",\"expiry\":\"2024-09-05T15:26:04.1808164+04:00\"}\n",
            "\n",
            "Warning\n",
            "\n",
            "IMPORTANT: All media items uploaded to Google Photos with rclone\n",
            "are stored in full resolution at original quality.  These uploads\n",
            "will count towards storage in your Google Account.\n",
            "y) Yes (default)\n",
            "n) No\n",
            "y/n> y\n",
            "\n",
            "Configuration complete.\n",
            "Options:\n",
            "- type: google photos\n",
            "- token: {\"access_token\":\"ya29.a0AcM612yULkgwGhq1G7J1GcQB-SG0zLa0mn-pqarGMXctNrUFbE7KHu_DPNY6EW6Nr6LouFkpqpRuHa31QzfXh9N2HrlTvV8grKcL_8Z58W8gdjvi3kX2_Kus3fMDYyw-Oc-8d6DIyFbGT0_Fw3101sXGQItLS3-Lf0Mbw_IbaCgYKAU4SARMSFQHGX2MiSH6x3QyAdeDENyOgvdlFBw0175\",\"token_type\":\"Bearer\",\"refresh_token\":\"1//03oSlhSvBRdgDCgYIARAAGAMSNgF-L9IrK8hjAeGLiZCesN-J9R543yojdEVLkuJeIQkOCh8higizbPP8nmAbb5j0yAeqQ9m_bQ\",\"expiry\":\"2024-09-05T15:26:04.1808164+04:00\"}\n",
            "Keep this \"google_photos\" remote?\n",
            "y) Yes this is OK (default)\n",
            "e) Edit this remote\n",
            "d) Delete this remote\n",
            "y/e/d> y\n",
            "\n",
            "Current remotes:\n",
            "\n",
            "Name                 Type\n",
            "====                 ====\n",
            "google_photos        google photos\n",
            "onedrive             onedrive\n",
            "\n",
            "e) Edit existing remote\n",
            "n) New remote\n",
            "d) Delete remote\n",
            "r) Rename remote\n",
            "c) Copy remote\n",
            "s) Set configuration password\n",
            "q) Quit config\n",
            "e/n/d/r/c/s/q> q\n"
          ]
        }
      ]
    },
    {
      "cell_type": "markdown",
      "source": [],
      "metadata": {
        "id": "g3hXOf8PBBXg"
      }
    },
    {
      "cell_type": "code",
      "source": [
        "# @title Mount Google Photos\n",
        "!mkdir google_photos\n",
        "!nohup rclone --vfs-cache-mode writes mount google_photos: ./google_photos &"
      ],
      "metadata": {
        "colab": {
          "base_uri": "https://localhost:8080/"
        },
        "id": "JytVPuZYQfsk",
        "outputId": "e2196022-d332-4e42-d424-36d8121418c3",
        "cellView": "form"
      },
      "execution_count": null,
      "outputs": [
        {
          "output_type": "stream",
          "name": "stdout",
          "text": [
            "nohup: appending output to 'nohup.out'\n"
          ]
        }
      ]
    },
    {
      "cell_type": "code",
      "source": [
        "# @title Check Mount\n",
        "!ls ./google_photos"
      ],
      "metadata": {
        "colab": {
          "base_uri": "https://localhost:8080/"
        },
        "id": "8Qk1-rPaRFA9",
        "outputId": "6a3b172a-44b7-4f73-af18-cf1e4abe1586",
        "cellView": "form"
      },
      "execution_count": null,
      "outputs": [
        {
          "output_type": "stream",
          "name": "stdout",
          "text": [
            "album  feature\tmedia  shared-album  upload\n"
          ]
        }
      ]
    },
    {
      "cell_type": "code",
      "source": [],
      "metadata": {
        "id": "eVZzW49URAbv"
      },
      "execution_count": null,
      "outputs": []
    },
    {
      "cell_type": "markdown",
      "source": [
        "# OneDrive <img src='https://upload.wikimedia.org/wikipedia/commons/3/3c/Microsoft_Office_OneDrive_%282019%E2%80%93present%29.svg' height=\"45\" alt=\"OneDrive\"/>"
      ],
      "metadata": {
        "id": "Dj0Ymfui50aM"
      }
    },
    {
      "cell_type": "code",
      "source": [
        "# @title Config OneDrive\n",
        "!rclone config\n"
      ],
      "metadata": {
        "id": "-IrRyxcmR5zU",
        "collapsed": true,
        "cellView": "form"
      },
      "execution_count": null,
      "outputs": []
    },
    {
      "cell_type": "code",
      "source": [
        "# @title Mount OneDrive\n",
        "!mkdir onedrive\n",
        "!nohup rclone --vfs-cache-mode writes mount onedrive: ./onedrive &"
      ],
      "metadata": {
        "cellView": "form",
        "id": "JekErAr26Jg6"
      },
      "execution_count": null,
      "outputs": []
    },
    {
      "cell_type": "code",
      "source": [
        "# @title Check if Mount is successful\n",
        "#@markdown <h4>📝 Displaying folders in result indicates the mount was successful</4>\n",
        "!ls ./onedrive"
      ],
      "metadata": {
        "collapsed": true,
        "id": "Imz5qcGEHU7_",
        "cellView": "form"
      },
      "execution_count": null,
      "outputs": []
    },
    {
      "cell_type": "markdown",
      "source": [
        "# **Copy Files**"
      ],
      "metadata": {
        "id": "3m6HlUvuhoLk"
      }
    },
    {
      "cell_type": "code",
      "source": [
        "#@markdown <h4>📝 Copy path from left tab folder section</4>\n",
        "#@markdown <h4>📝 Replace the path of source & destination directory if required</4>\n",
        "\n",
        "import shutil\n",
        "\n",
        "# Source directory\n",
        "source_dir = '/content/google_photos/media'\n",
        "\n",
        "# Destination directory\n",
        "destination_dir = '/content/onedrive/gphotos'\n",
        "\n",
        "# Copy the directory\n",
        "shutil.copytree(source_dir, destination_dir)"
      ],
      "metadata": {
        "id": "3fE7TOcbV8Wf"
      },
      "execution_count": null,
      "outputs": []
    }
  ]
}